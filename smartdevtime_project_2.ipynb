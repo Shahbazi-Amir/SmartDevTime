{
 "cells": [
  {
   "cell_type": "code",
   "execution_count": 1,
   "id": "e549a34c",
   "metadata": {},
   "outputs": [
    {
     "name": "stdout",
     "output_type": "stream",
     "text": [
      "   id  Project  TeamExp  ManagerExp  YearEnd  Length  Effort  Transactions  \\\n",
      "0   3        0        0           0       86       4    2964           190   \n",
      "1  52       55        1           3       86      12    1047           130   \n",
      "2  15       12        4           4       85       9    5984           228   \n",
      "3  39       35       -1          -1       87       8    5344           260   \n",
      "4  68       67        2           4       87      15    6894           325   \n",
      "\n",
      "   Entities  PointsNonAdjust  Adjustment  PointsAjust  Language  \n",
      "0       121              316          33          306         1  \n",
      "1        84              221           4          140         2  \n",
      "2       115              339          28          311         1  \n",
      "3       148              402          24          362         1  \n",
      "4       190              503          35          498         2  \n"
     ]
    },
    {
     "data": {
      "text/plain": [
       "Index(['id', 'Project', 'TeamExp', 'ManagerExp', 'YearEnd', 'Length', 'Effort',\n",
       "       'Transactions', 'Entities', 'PointsNonAdjust', 'Adjustment',\n",
       "       'PointsAjust', 'Language'],\n",
       "      dtype='object')"
      ]
     },
     "execution_count": 1,
     "metadata": {},
     "output_type": "execute_result"
    }
   ],
   "source": [
    "\n",
    "# Load the dataset\n",
    "import pandas as pd\n",
    "\n",
    "df = pd.read_csv('dataset/Desharnais_expanded_300.csv')\n",
    "\n",
    "# Display first 5 rows\n",
    "print(df.head())\n",
    "df.columns"
   ]
  }
 ],
 "metadata": {
  "kernelspec": {
   "display_name": "Python 3",
   "language": "python",
   "name": "python3"
  },
  "language_info": {
   "codemirror_mode": {
    "name": "ipython",
    "version": 3
   },
   "file_extension": ".py",
   "mimetype": "text/x-python",
   "name": "python",
   "nbconvert_exporter": "python",
   "pygments_lexer": "ipython3",
   "version": "3.11.3"
  }
 },
 "nbformat": 4,
 "nbformat_minor": 5
}
