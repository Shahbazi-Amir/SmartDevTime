{
 "cells": [
  {
   "cell_type": "code",
   "execution_count": 1,
   "id": "68966a7b",
   "metadata": {},
   "outputs": [
    {
     "name": "stdout",
     "output_type": "stream",
     "text": [
      "     LOC  TeamExp  ManagerExp Complexity  Effort\n",
      "0  17795        0           0       High  377.55\n",
      "1   2860        7           8     Medium  126.91\n",
      "2  40158        4           0     Medium  387.96\n",
      "3  46732        3           0        Low  396.61\n",
      "4  13284        7           6     Medium  210.91\n"
     ]
    },
    {
     "data": {
      "text/plain": [
       "Index(['LOC', 'TeamExp', 'ManagerExp', 'Complexity', 'Effort'], dtype='object')"
      ]
     },
     "execution_count": 1,
     "metadata": {},
     "output_type": "execute_result"
    }
   ],
   "source": [
    "# Load the dataset\n",
    "import pandas as pd\n",
    "\n",
    "df = pd.read_csv('dataset/simulated_cocomo.csv')\n",
    "\n",
    "# Display first 5 rows\n",
    "print(df.head())\n",
    "df.columns"
   ]
  }
 ],
 "metadata": {
  "kernelspec": {
   "display_name": "Python 3",
   "language": "python",
   "name": "python3"
  },
  "language_info": {
   "codemirror_mode": {
    "name": "ipython",
    "version": 3
   },
   "file_extension": ".py",
   "mimetype": "text/x-python",
   "name": "python",
   "nbconvert_exporter": "python",
   "pygments_lexer": "ipython3",
   "version": "3.11.3"
  }
 },
 "nbformat": 4,
 "nbformat_minor": 5
}
