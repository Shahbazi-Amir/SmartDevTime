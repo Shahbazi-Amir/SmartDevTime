{
 "cells": [
  {
   "cell_type": "code",
   "execution_count": null,
   "id": "a3276768",
   "metadata": {},
   "outputs": [
    {
     "name": "stdout",
     "output_type": "stream",
     "text": [
      "(37120, 37)\n",
      "                               name  \\\n",
      "0                             Parsr   \n",
      "1  Yet-Another-EfficientDet-Pytorch   \n",
      "2                               nit   \n",
      "3                           new.css   \n",
      "4                      golang-notes   \n",
      "\n",
      "                                         description  stargazerCount  \\\n",
      "0  Transforms PDF, Documents and Images into Enri...            5755   \n",
      "1  The pytorch re-implement of the official effic...            5200   \n",
      "2                                 Git of Web3 assets            4452   \n",
      "3  A classless CSS framework to write modern webs...            3946   \n",
      "4                     Go source code analysis(zh-cn)            3941   \n",
      "\n",
      "   forkCount            createdAt            updatedAt             pushedAt  \\\n",
      "0        306  2019-08-05T12:43:53  2024-09-01T17:24:35  2023-12-03T13:27:21   \n",
      "1       1268  2020-04-06T03:27:06  2024-08-22T08:04:26  2021-10-24T02:13:31   \n",
      "2          8  2022-04-20T08:21:14  2024-08-08T16:18:20  2024-07-29T14:17:11   \n",
      "3        127  2020-05-03T03:18:57  2024-09-01T17:29:23  2024-03-16T08:40:48   \n",
      "4        667  2018-04-04T05:21:51  2024-08-31T01:40:45  2022-07-18T09:30:00   \n",
      "\n",
      "   diskUsage  isArchived  isEmpty  ...  forks  assignableUsers  deployments  \\\n",
      "0      55148       False    False  ...    305                4            0   \n",
      "1       9068       False    False  ...   1251                1            0   \n",
      "2        548       False    False  ...      8                4            0   \n",
      "3        310       False    False  ...    112                1          100   \n",
      "4       8118       False    False  ...    658                1            0   \n",
      "\n",
      "   environments  milestones  releases  pullRequests  watchers  \\\n",
      "0             0           0        26           504        81   \n",
      "1             0           0         4            37       108   \n",
      "2             0           0         4            13        12   \n",
      "3             2           0         1            43        39   \n",
      "4             0           0         0            39       186   \n",
      "\n",
      "                                   reponame  language_count  \n",
      "0                           axa-group/Parsr               5  \n",
      "1  zylo117/Yet-Another-EfficientDet-Pytorch               2  \n",
      "2                       numbersprotocol/nit               2  \n",
      "3                                xz/new.css               2  \n",
      "4                       cch123/golang-notes               4  \n",
      "\n",
      "[5 rows x 37 columns]\n"
     ]
    }
   ],
   "source": [
    "import pandas as pd\n",
    "\n",
    "df = pd.read_json(\"dataset/df_clean.json\", lines=True)  \n",
    "print(df.shape)\n",
    "print(df.head())\n"
   ]
  }
 ],
 "metadata": {
  "kernelspec": {
   "display_name": "Python 3",
   "language": "python",
   "name": "python3"
  },
  "language_info": {
   "codemirror_mode": {
    "name": "ipython",
    "version": 3
   },
   "file_extension": ".py",
   "mimetype": "text/x-python",
   "name": "python",
   "nbconvert_exporter": "python",
   "pygments_lexer": "ipython3",
   "version": "3.11.3"
  }
 },
 "nbformat": 4,
 "nbformat_minor": 5
}
